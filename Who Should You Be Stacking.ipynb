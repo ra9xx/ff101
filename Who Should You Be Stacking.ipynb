{
 "cells": [
  {
   "cell_type": "code",
   "execution_count": 1,
   "metadata": {},
   "outputs": [],
   "source": [
    "import pandas as pd\n",
    "import numpy as np\n",
    "import seaborn as sns\n",
    "from matplotlib import pyplot as plt\n",
    "\n",
    "pd.options.mode.chained_assignment = None "
   ]
  },
  {
   "cell_type": "code",
   "execution_count": 16,
   "metadata": {},
   "outputs": [
    {
     "data": {
      "text/html": [
       "<div>\n",
       "<style scoped>\n",
       "    .dataframe tbody tr th:only-of-type {\n",
       "        vertical-align: middle;\n",
       "    }\n",
       "\n",
       "    .dataframe tbody tr th {\n",
       "        vertical-align: top;\n",
       "    }\n",
       "\n",
       "    .dataframe thead th {\n",
       "        text-align: right;\n",
       "    }\n",
       "</style>\n",
       "<table border=\"1\" class=\"dataframe\">\n",
       "  <thead>\n",
       "    <tr style=\"text-align: right;\">\n",
       "      <th></th>\n",
       "      <th>Tm</th>\n",
       "      <th>FantPos</th>\n",
       "      <th>FantasyPoints</th>\n",
       "      <th>FantasyPoints/GM</th>\n",
       "    </tr>\n",
       "  </thead>\n",
       "  <tbody>\n",
       "    <tr>\n",
       "      <th>0</th>\n",
       "      <td>TEN</td>\n",
       "      <td>RB</td>\n",
       "      <td>331.10</td>\n",
       "      <td>20.693750</td>\n",
       "    </tr>\n",
       "    <tr>\n",
       "      <th>1</th>\n",
       "      <td>NOR</td>\n",
       "      <td>RB</td>\n",
       "      <td>377.80</td>\n",
       "      <td>25.186667</td>\n",
       "    </tr>\n",
       "    <tr>\n",
       "      <th>2</th>\n",
       "      <td>MIN</td>\n",
       "      <td>RB</td>\n",
       "      <td>331.80</td>\n",
       "      <td>23.700000</td>\n",
       "    </tr>\n",
       "    <tr>\n",
       "      <th>3</th>\n",
       "      <td>KAN</td>\n",
       "      <td>TE</td>\n",
       "      <td>310.76</td>\n",
       "      <td>20.717333</td>\n",
       "    </tr>\n",
       "    <tr>\n",
       "      <th>4</th>\n",
       "      <td>GNB</td>\n",
       "      <td>WR</td>\n",
       "      <td>358.40</td>\n",
       "      <td>25.600000</td>\n",
       "    </tr>\n",
       "  </tbody>\n",
       "</table>\n",
       "</div>"
      ],
      "text/plain": [
       "    Tm FantPos  FantasyPoints  FantasyPoints/GM\n",
       "0  TEN      RB         331.10         20.693750\n",
       "1  NOR      RB         377.80         25.186667\n",
       "2  MIN      RB         331.80         23.700000\n",
       "3  KAN      TE         310.76         20.717333\n",
       "4  GNB      WR         358.40         25.600000"
      ]
     },
     "execution_count": 16,
     "metadata": {},
     "output_type": "execute_result"
    }
   ],
   "source": [
    "#import our CSV file\n",
    "df = pd.read_csv('2020.csv')\n",
    "\n",
    "#drop unneccessary columns\n",
    "df.drop(['Rk', '2PM', '2PP', 'FantPt', 'DKPt', 'FDPt', \n",
    "         'VBD', 'PosRank', 'OvRank', 'PPR', 'Fmb', \n",
    "         'GS', 'Age', 'Tgt', 'Y/A', 'Att', 'Att.1', 'Cmp', 'Y/R'], axis=1, inplace=True)\n",
    "\n",
    "#fix name formatting\n",
    "df['Player'] = df['Player'].apply(lambda x: x.split('*')[0]).apply(lambda x: x.split('\\\\')[0])\n",
    "\n",
    "#rename columns\n",
    "df.rename({\n",
    "    'TD': 'PassingTD',\n",
    "    'TD.1': 'RushingTD',\n",
    "    'TD.2': 'ReceivingTD',\n",
    "    'TD.3': 'TotalTD',\n",
    "    'Yds': 'PassingYDs',\n",
    "    'Yds.1': 'RushingYDs',\n",
    "    'Yds.2': 'ReceivingYDs',\n",
    "}, axis=1, inplace=True)\n",
    "\n",
    "\"\"\"Extra stuff before we parition DataFrames by position\"\"\"\n",
    "\n",
    "#Make sure to put paranthesis if you break lines.\n",
    "df['FantasyPoints'] = (df['PassingYDs']*0.04 +df['Rec'] + df['PassingTD']*4 - df['Int']*2 + df['RushingYDs']*.1 \n",
    "                       + df['RushingTD']*6 + df['ReceivingYDs']*.1 + df['ReceivingTD']*6 - df['FL']*2)\n",
    "\n",
    "df['FantasyPoints/GM'] = df['FantasyPoints']/df['G']\n",
    "\n",
    "#Unfortnately, our DataFrame in limited. \n",
    "df = df[df['Tm'] != '2TM']\n",
    "df = df[df['Tm'] != '3TM']\n",
    "\n",
    "rb_df = df[df['FantPos'] == 'RB']\n",
    "rb_df['Rec/G'] = rb_df['Rec']/rb_df['G']\n",
    "rb_df = rb_df[rb_df['Rec/G'] > 5]\n",
    "\n",
    "df = df[['Tm', 'FantPos', 'FantasyPoints', 'FantasyPoints/GM']]\n",
    "rb_df = df[['Tm', 'FantPos', 'FantasyPoints', 'FantasyPoints/GM']]\n",
    "\n",
    "rb_df = rb_df[rb_df['Tm'] != '2TM']\n",
    "rb_df = rb_df[rb_df['Tm'] != '3TM']\n",
    "\n",
    "\"\"\" End Extra stuff \"\"\"\n",
    "\n",
    "#seperate dataframes based off position\n",
    "qb_df = df[df['FantPos'] == 'QB']\n",
    "wr_df = df[df['FantPos'] == 'WR']\n",
    "te_df = df[df['FantPos'] == 'TE']\n",
    "\n",
    "rb_df.head()"
   ]
  },
  {
   "cell_type": "code",
   "execution_count": 5,
   "metadata": {},
   "outputs": [
    {
     "data": {
      "text/html": [
       "<div>\n",
       "<style scoped>\n",
       "    .dataframe tbody tr th:only-of-type {\n",
       "        vertical-align: middle;\n",
       "    }\n",
       "\n",
       "    .dataframe tbody tr th {\n",
       "        vertical-align: top;\n",
       "    }\n",
       "\n",
       "    .dataframe thead th {\n",
       "        text-align: right;\n",
       "    }\n",
       "</style>\n",
       "<table border=\"1\" class=\"dataframe\">\n",
       "  <thead>\n",
       "    <tr style=\"text-align: right;\">\n",
       "      <th></th>\n",
       "      <th>QB1</th>\n",
       "      <th>TE1</th>\n",
       "      <th>RB1</th>\n",
       "      <th>RB2</th>\n",
       "      <th>WR1</th>\n",
       "      <th>WR2</th>\n",
       "      <th>WR3</th>\n",
       "    </tr>\n",
       "    <tr>\n",
       "      <th>Tm</th>\n",
       "      <th></th>\n",
       "      <th></th>\n",
       "      <th></th>\n",
       "      <th></th>\n",
       "      <th></th>\n",
       "      <th></th>\n",
       "      <th></th>\n",
       "    </tr>\n",
       "  </thead>\n",
       "  <tbody>\n",
       "    <tr>\n",
       "      <th>ARI</th>\n",
       "      <td>23.67125</td>\n",
       "      <td>6.050000</td>\n",
       "      <td>23.67125</td>\n",
       "      <td>17.98750</td>\n",
       "      <td>17.987500</td>\n",
       "      <td>10.457143</td>\n",
       "      <td>7.761538</td>\n",
       "    </tr>\n",
       "    <tr>\n",
       "      <th>ATL</th>\n",
       "      <td>17.52750</td>\n",
       "      <td>9.318750</td>\n",
       "      <td>17.52750</td>\n",
       "      <td>17.52750</td>\n",
       "      <td>18.633333</td>\n",
       "      <td>11.316250</td>\n",
       "      <td>11.316250</td>\n",
       "    </tr>\n",
       "    <tr>\n",
       "      <th>BAL</th>\n",
       "      <td>22.05200</td>\n",
       "      <td>12.150000</td>\n",
       "      <td>22.05200</td>\n",
       "      <td>11.43750</td>\n",
       "      <td>11.437500</td>\n",
       "      <td>7.246154</td>\n",
       "      <td>4.350000</td>\n",
       "    </tr>\n",
       "    <tr>\n",
       "      <th>BUF</th>\n",
       "      <td>24.75375</td>\n",
       "      <td>5.566667</td>\n",
       "      <td>24.75375</td>\n",
       "      <td>20.53750</td>\n",
       "      <td>20.537500</td>\n",
       "      <td>13.833333</td>\n",
       "      <td>8.556250</td>\n",
       "    </tr>\n",
       "    <tr>\n",
       "      <th>CAR</th>\n",
       "      <td>15.94800</td>\n",
       "      <td>2.531250</td>\n",
       "      <td>15.94800</td>\n",
       "      <td>13.88125</td>\n",
       "      <td>13.881250</td>\n",
       "      <td>13.881250</td>\n",
       "      <td>13.881250</td>\n",
       "    </tr>\n",
       "  </tbody>\n",
       "</table>\n",
       "</div>"
      ],
      "text/plain": [
       "          QB1        TE1       RB1       RB2        WR1        WR2        WR3\n",
       "Tm                                                                           \n",
       "ARI  23.67125   6.050000  23.67125  17.98750  17.987500  10.457143   7.761538\n",
       "ATL  17.52750   9.318750  17.52750  17.52750  18.633333  11.316250  11.316250\n",
       "BAL  22.05200  12.150000  22.05200  11.43750  11.437500   7.246154   4.350000\n",
       "BUF  24.75375   5.566667  24.75375  20.53750  20.537500  13.833333   8.556250\n",
       "CAR  15.94800   2.531250  15.94800  13.88125  13.881250  13.881250  13.881250"
      ]
     },
     "execution_count": 5,
     "metadata": {},
     "output_type": "execute_result"
    }
   ],
   "source": [
    "def get_top_players(df, n):\n",
    "    return df.groupby('Tm').apply(lambda x: x.nlargest(n, ['FantasyPoints']).min()).reset_index(drop=True)\n",
    "\n",
    "qb_df = get_top_players(qb_df, 1)\n",
    "te_df = get_top_players(te_df, 1)\n",
    "rb1_df = get_top_players(rb_df, 1)\n",
    "rb2_df = get_top_players(rb_df, 2)\n",
    "wr1_df = get_top_players(wr_df, 1)\n",
    "wr2_df = get_top_players(wr_df, 2)\n",
    "wr3_df = get_top_players(wr_df, 3)\n",
    "\n",
    "new_names = {\n",
    "    'QB1': qb_df,\n",
    "    'TE1': te_df,\n",
    "    'RB1': rb1_df,\n",
    "    'RB2': rb2_df,\n",
    "    'WR1': wr1_df,\n",
    "    'WR2': wr2_df,\n",
    "    'WR3': wr3_df\n",
    "}\n",
    "\n",
    "for name, new_df in new_names.items():\n",
    "    new_df.rename({'FantasyPoints/GM': name}, axis=1, inplace=True)\n",
    "    new_df.drop(['FantPos', 'FantasyPoints'], axis=1, inplace=True)\n",
    "    new_df.set_index('Tm', inplace=True)\n",
    "    \n",
    "df = pd.concat([qb_df, te_df, rb1_df, rb2_df, wr1_df, wr2_df, wr3_df], axis=1)\n",
    "\n",
    "df.head()"
   ]
  },
  {
   "cell_type": "code",
   "execution_count": 6,
   "metadata": {},
   "outputs": [
    {
     "data": {
      "image/png": "[encoded data removed]",
      "text/plain": [
       "<Figure size 1080x720 with 2 Axes>"
      ]
     },
     "metadata": {
      "needs_background": "light"
     },
     "output_type": "display_data"
    }
   ],
   "source": [
    "corrMatrix = df.corr()\n",
    "\n",
    "fig, ax = plt.subplots()\n",
    "fig.set_size_inches(15, 10)\n",
    "\n",
    "cmap = sns.diverging_palette(0, 250, as_cmap=True)\n",
    "\n",
    "vizCorrMatrix = sns.heatmap(corrMatrix,cmap=cmap, center=0)"
   ]
  },
  {
   "cell_type": "code",
   "execution_count": 7,
   "metadata": {},
   "outputs": [
    {
     "data": {
      "image/png": "[encoded data removed]",
      "text/plain": [
       "<Figure size 1080x720 with 2 Axes>"
      ]
     },
     "metadata": {
      "needs_background": "light"
     },
     "output_type": "display_data"
    }
   ],
   "source": [
    "#This is for the Part 3 of Python for Fantasy Football Analysis\n",
    "\n",
    "fig, ax = plt.subplots()\n",
    "fig.set_size_inches(15, 10)\n",
    "\n",
    "mask = np.zeros_like(corrMatrix, dtype=np.bool)\n",
    "mask[np.triu_indices_from(mask)] = True\n",
    "\n",
    "vizCorrMatrix = sns.heatmap(corrMatrix, mask=mask,cmap=cmap, center=0)"
   ]
  },
  {
   "cell_type": "code",
   "execution_count": null,
   "metadata": {},
   "outputs": [],
   "source": []
  },
  {
   "cell_type": "code",
   "execution_count": null,
   "metadata": {},
   "outputs": [],
   "source": []
  },
  {
   "cell_type": "code",
   "execution_count": null,
   "metadata": {},
   "outputs": [],
   "source": []
  },
  {
   "cell_type": "code",
   "execution_count": null,
   "metadata": {},
   "outputs": [],
   "source": []
  },
  {
   "cell_type": "code",
   "execution_count": null,
   "metadata": {},
   "outputs": [],
   "source": []
  },
  {
   "cell_type": "code",
   "execution_count": null,
   "metadata": {},
   "outputs": [],
   "source": []
  },
  {
   "cell_type": "code",
   "execution_count": null,
   "metadata": {},
   "outputs": [],
   "source": []
  },
  {
   "cell_type": "code",
   "execution_count": null,
   "metadata": {},
   "outputs": [],
   "source": []
  }
 ],
 "metadata": {
  "kernelspec": {
   "display_name": "Python 3",
   "language": "python",
   "name": "python3"
  },
  "language_info": {
   "codemirror_mode": {
    "name": "ipython",
    "version": 3
   },
   "file_extension": ".py",
   "mimetype": "text/x-python",
   "name": "python",
   "nbconvert_exporter": "python",
   "pygments_lexer": "ipython3",
   "version": "3.7.1"
  }
 },
 "nbformat": 4,
 "nbformat_minor": 2
}
